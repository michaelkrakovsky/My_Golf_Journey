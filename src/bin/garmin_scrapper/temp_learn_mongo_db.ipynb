{
 "metadata": {
  "language_info": {
   "codemirror_mode": {
    "name": "ipython",
    "version": 3
   },
   "file_extension": ".py",
   "mimetype": "text/x-python",
   "name": "python",
   "nbconvert_exporter": "python",
   "pygments_lexer": "ipython3",
   "version": "3.7.1-final"
  },
  "orig_nbformat": 2,
  "kernelspec": {
   "name": "Python 3.7.1 64-bit",
   "display_name": "Python 3.7.1 64-bit",
   "metadata": {
    "interpreter": {
     "hash": "4353ec21a7ee1bcb7760f89b815874e443d5d7d0958581f156108e1b6644c35d"
    }
   }
  }
 },
 "nbformat": 4,
 "nbformat_minor": 2,
 "cells": [
  {
   "cell_type": "code",
   "execution_count": 1,
   "metadata": {},
   "outputs": [],
   "source": [
    "from pymongo import MongoClient\n",
    "import json"
   ]
  },
  {
   "cell_type": "code",
   "execution_count": 6,
   "metadata": {},
   "outputs": [
    {
     "output_type": "execute_result",
     "data": {
      "text/plain": [
       "['Golf_Stats_DB', 'admin', 'config', 'local']"
      ]
     },
     "metadata": {},
     "execution_count": 6
    }
   ],
   "source": [
    "# Connect to Mongo and list db names.\n",
    "client = MongoClient('mongodb://localhost:27017/')\n",
    "client.list_database_names()"
   ]
  },
  {
   "cell_type": "code",
   "execution_count": 9,
   "metadata": {},
   "outputs": [
    {
     "output_type": "execute_result",
     "data": {
      "text/plain": [
       "['Scorecards']"
      ]
     },
     "metadata": {},
     "execution_count": 9
    }
   ],
   "source": [
    "# List all the connections within the db.\n",
    "db = client.Golf_Stats_DB\n",
    "db.list_collection_names()"
   ]
  },
  {
   "cell_type": "code",
   "execution_count": 17,
   "metadata": {},
   "outputs": [],
   "source": [
    "# Connect to a collection set within the database. We will use Scorecards\n",
    "collection = db.Scorecards"
   ]
  },
  {
   "cell_type": "code",
   "execution_count": 12,
   "metadata": {},
   "outputs": [],
   "source": [
    "j = '{\"scorecardDetails\":[{\"scorecard\":{\"id\":155069236,\"customerId\":\"6300103405138088\",\"playerProfileId\":73522608,\"roundPlayerName\":\"Michael Krakovsky\",\"connectDisplayName\":\"433ae1d7-ba04-4209-bfa4-4814c426397d\",\"courseGlobalId\":17772,\"courseSnapshotId\":215636,\"frontNineGlobalCourseId\":17772,\"scoreType\":\"STROKE_PLAY\",\"useHandicapScoring\":true,\"useStrokeCounting\":true,\"startTime\":\"2020-09-16T19:58:35.000Z\",\"formattedStartTime\":\"2020-09-16T14:58:35-05:00\",\"endTime\":\"2020-09-16T23:18:10.000Z\",\"formattedEndTime\":\"2020-09-16T18:18:10-05:00\",\"unitId\":\"11\",\"roundType\":\"ALL\",\"inProgress\":false,\"excludeFromStats\":false,\"holesCompleted\":18,\"publicRound\":false,\"score\":-2,\"playerHandicap\":5,\"courseHandicapStr\":\"031113091501170507041610181402080612\",\"teeBox\":\"Blue\",\"handicapType\":\"MEN\",\"teeBoxRating\":70.8,\"teeBoxSlope\":129,\"lastModifiedDt\":\"2020-09-16T23:18:11.000Z\",\"sensorOnPutter\":false,\"handicappedStrokes\":69,\"strokes\":74,\"holes\":[{\"number\":1,\"strokes\":4,\"handicapScore\":3,\"lastModifiedDt\":\"2020-09-16T20:28:59.000Z\",\"putts\":1,\"fairwayShotOutcome\":\"HIT\",\"pinPositionLat\":524009859,\"pinPositionLon\":-952028917},{\"number\":2,\"strokes\":4,\"handicapScore\":4,\"lastModifiedDt\":\"2020-09-16T20:43:50.000Z\",\"putts\":2,\"fairwayShotOutcome\":\"LEFT\",\"pinPositionLat\":524014476,\"pinPositionLon\":-952077879},{\"number\":3,\"strokes\":3,\"handicapScore\":3,\"lastModifiedDt\":\"2020-09-16T20:48:53.000Z\",\"putts\":2,\"pinPositionLat\":523993752,\"pinPositionLon\":-952101275},{\"number\":4,\"strokes\":5,\"handicapScore\":5,\"lastModifiedDt\":\"2020-09-16T20:57:50.000Z\",\"putts\":2,\"fairwayShotOutcome\":\"LEFT\",\"pinPositionLat\":523969271,\"pinPositionLon\":-952066211},{\"number\":5,\"strokes\":3,\"handicapScore\":3,\"lastModifiedDt\":\"2020-09-16T21:18:03.000Z\",\"putts\":2,\"pinPositionLat\":523949920,\"pinPositionLon\":-952051310},{\"number\":6,\"strokes\":3,\"handicapScore\":2,\"lastModifiedDt\":\"2020-09-16T21:18:25.000Z\",\"putts\":1,\"fairwayShotOutcome\":\"HIT\",\"pinPositionLat\":523910370,\"pinPositionLon\":-952036612},{\"number\":7,\"strokes\":5,\"handicapScore\":5,\"lastModifiedDt\":\"2020-09-16T21:30:15.000Z\",\"putts\":2,\"fairwayShotOutcome\":\"LEFT\",\"pinPositionLat\":523887679,\"pinPositionLon\":-952067738},{\"number\":8,\"strokes\":7,\"handicapScore\":6,\"lastModifiedDt\":\"2020-09-16T21:45:06.000Z\",\"putts\":2,\"fairwayShotOutcome\":\"HIT\",\"pinPositionLat\":523928576,\"pinPositionLon\":-952123060},{\"number\":9,\"strokes\":5,\"handicapScore\":5,\"lastModifiedDt\":\"2020-09-16T21:54:36.000Z\",\"putts\":1,\"fairwayShotOutcome\":\"LEFT\",\"pinPositionLat\":523914832,\"pinPositionLon\":-952065018},{\"number\":10,\"strokes\":5,\"handicapScore\":4,\"lastModifiedDt\":\"2020-09-16T22:14:22.000Z\",\"putts\":2,\"fairwayShotOutcome\":\"HIT\",\"pinPositionLat\":523951781,\"pinPositionLon\":-952096885},{\"number\":11,\"strokes\":3,\"handicapScore\":3,\"lastModifiedDt\":\"2020-09-16T22:14:26.000Z\",\"putts\":2,\"pinPositionLat\":523950767,\"pinPositionLon\":-952070685},{\"number\":12,\"strokes\":4,\"handicapScore\":4,\"lastModifiedDt\":\"2020-09-16T22:29:20.000Z\",\"putts\":2,\"fairwayShotOutcome\":\"HIT\",\"pinPositionLat\":523909082,\"pinPositionLon\":-952006988},{\"number\":13,\"strokes\":3,\"handicapScore\":3,\"lastModifiedDt\":\"2020-09-16T22:36:57.000Z\",\"putts\":2,\"pinPositionLat\":523895791,\"pinPositionLon\":-951988616},{\"number\":14,\"strokes\":3,\"handicapScore\":3,\"lastModifiedDt\":\"2020-09-16T22:48:39.000Z\",\"putts\":1,\"fairwayShotOutcome\":\"LEFT\",\"pinPositionLat\":523889242,\"pinPositionLon\":-951942803},{\"number\":15,\"strokes\":6,\"handicapScore\":5,\"lastModifiedDt\":\"2020-09-16T22:59:53.000Z\",\"pinPositionLat\":523930223,\"pinPositionLon\":-951915697},{\"number\":16,\"strokes\":4,\"handicapScore\":4,\"lastModifiedDt\":\"2020-09-16T23:12:57.000Z\",\"putts\":2,\"fairwayShotOutcome\":\"HIT\",\"pinPositionLat\":523963759,\"pinPositionLon\":-951966294},{\"number\":17,\"strokes\":4,\"handicapScore\":4,\"lastModifiedDt\":\"2020-09-16T20:16:28.000Z\",\"putts\":2,\"fairwayShotOutcome\":\"HIT\",\"pinPositionLat\":523959047,\"pinPositionLon\":-952035455},{\"number\":18,\"strokes\":3,\"handicapScore\":3,\"lastModifiedDt\":\"2020-09-16T20:16:34.000Z\",\"putts\":1,\"fairwayShotOutcome\":\"HIT\",\"pinPositionLat\":523975630,\"pinPositionLon\":-951989415}]},\"scorecardStats\":{\"frontNine\":{\"holesPlayed\":9,\"fairwaysRecorded\":7,\"fairwaysHit\":3,\"fairwaysLeft\":4,\"fairwaysRight\":0,\"greensInRegulation\":4,\"greensRecorded\":9,\"putts\":15,\"strokes\":39,\"handicappedStrokes\":36,\"scoreWithHandicap\":1,\"scoreWithoutHandicap\":4,\"meanPuttsPerHole\":1.6666666,\"holesUnderPar\":1,\"holesPar\":4,\"holesBogey\":3,\"holesOverBogey\":1,\"holesBirdie\":1,\"holesEagle\":0,\"holesDoubleEagleOrUnder\":0},\"backNine\":{\"holesPlayed\":9,\"fairwaysRecorded\":6,\"fairwaysHit\":5,\"fairwaysLeft\":1,\"fairwaysRight\":0,\"greensInRegulation\":8,\"greensRecorded\":8,\"putts\":14,\"strokes\":35,\"handicappedStrokes\":33,\"scoreWithHandicap\":-3,\"scoreWithoutHandicap\":-1,\"meanPuttsPerHole\":1.75,\"holesUnderPar\":3,\"holesPar\":5,\"holesBogey\":0,\"holesOverBogey\":1,\"holesBirdie\":3,\"holesEagle\":0,\"holesDoubleEagleOrUnder\":0},\"round\":{\"holesPlayed\":18,\"fairwaysRecorded\":13,\"fairwaysHit\":8,\"fairwaysLeft\":5,\"fairwaysRight\":0,\"greensInRegulation\":12,\"greensRecorded\":17,\"putts\":29,\"strokes\":74,\"handicappedStrokes\":69,\"scoreWithHandicap\":-2,\"scoreWithoutHandicap\":3,\"meanPuttsPerHole\":1.7058823,\"holesUnderPar\":4,\"holesPar\":9,\"holesBogey\":3,\"holesOverBogey\":2,\"holesBirdie\":4,\"holesEagle\":0,\"holesDoubleEagleOrUnder\":0}},\"nextPreviousScorecardIdsApiModel\":{\"nextScorecardId\":155883951,\"previousScorecardId\":153725966}}],\"courseSnapshots\":[{\"courseGlobalId\":17772,\"courseSnapshotId\":215636,\"name\":\"Caledon Woods Golf Club\",\"holePars\":\"443434454535344444\",\"continent\":\"North America\",\"country\":\"Canada\",\"street\":\"15608 Regional Rd 50\",\"city\":\"Bolton\",\"state\":\"ON\",\"zip\":\"L7E 3E5\",\"phone\":\"905-880-1400\",\"web\":\"http://caledonwoods.clublink.ca/\",\"frontNinePar\":35,\"backNinePar\":36,\"roundPar\":71,\"releaseDate\":\"2017-07-17\",\"tees\":[{\"name\":\"Blue\",\"handicapType\":\"MEN\",\"rating\":70.8,\"slope\":129,\"holeHandicaps\":\"031113091501170507041610181402080612\"},{\"name\":\"Green\",\"handicapType\":\"MEN\",\"rating\":65.7,\"slope\":114,\"holeHandicaps\":\"031113091501170507041610181402080612\"},{\"name\":\"Red\",\"handicapType\":\"MEN\",\"rating\":62.8,\"slope\":99,\"holeHandicaps\":\"031113091501170507041610181402080612\"},{\"name\":\"Tournament\",\"handicapType\":\"MEN\",\"rating\":64.5,\"slope\":108,\"holeHandicaps\":\"031113091501170507041610181402080612\"},{\"name\":\"White\",\"handicapType\":\"MEN\",\"rating\":68.9,\"slope\":126,\"holeHandicaps\":\"031113091501170507041610181402080612\"},{\"name\":\"Green\",\"handicapType\":\"WOMEN\",\"rating\":69.8,\"slope\":122,\"holeHandicaps\":\"030713111701090515041412181608060210\"},{\"name\":\"Red\",\"handicapType\":\"WOMEN\",\"rating\":66.0,\"slope\":109,\"holeHandicaps\":\"030713111701090515041412181608060210\"},{\"name\":\"Tournament\",\"handicapType\":\"WOMEN\",\"rating\":68.5,\"slope\":118,\"holeHandicaps\":\"030713111701090515041412181608060210\"},{\"name\":\"White\",\"handicapType\":\"WOMEN\",\"rating\":73.7,\"slope\":129,\"holeHandicaps\":\"030713111701090515041412181608060210\"}]}]}'"
   ]
  },
  {
   "cell_type": "code",
   "execution_count": 20,
   "metadata": {},
   "outputs": [
    {
     "output_type": "execute_result",
     "data": {
      "text/plain": [
       "ObjectId('5f8db0b7ba60405c610878da')"
      ]
     },
     "metadata": {},
     "execution_count": 20
    }
   ],
   "source": [
    "# Add the document above to our scorecard selection.\n",
    "post = json.loads(j)\n",
    "collection.insert_one(post).inserted_id"
   ]
  },
  {
   "cell_type": "code",
   "execution_count": 24,
   "metadata": {},
   "outputs": [
    {
     "output_type": "execute_result",
     "data": {
      "text/plain": [
       "ObjectId('5f8db03cba60405c610878d8')"
      ]
     },
     "metadata": {},
     "execution_count": 24
    }
   ],
   "source": [
    "# Retrieve our sample scorecard to see if our insertion was successful.\n",
    "scorecard = collection.find_one({\"scorecardDetails.scorecard.id\":155069236})\n",
    "scorecard['_id']"
   ]
  },
  {
   "cell_type": "code",
   "execution_count": null,
   "metadata": {},
   "outputs": [],
   "source": []
  }
 ]
}