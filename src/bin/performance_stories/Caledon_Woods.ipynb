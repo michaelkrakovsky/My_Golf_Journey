{
 "metadata": {
  "language_info": {
   "codemirror_mode": {
    "name": "ipython",
    "version": 3
   },
   "file_extension": ".py",
   "mimetype": "text/x-python",
   "name": "python",
   "nbconvert_exporter": "python",
   "pygments_lexer": "ipython3",
   "version": "3.7.1-final"
  },
  "orig_nbformat": 2,
  "kernelspec": {
   "name": "Python 3.7.1 64-bit",
   "display_name": "Python 3.7.1 64-bit",
   "metadata": {
    "interpreter": {
     "hash": "4353ec21a7ee1bcb7760f89b815874e443d5d7d0958581f156108e1b6644c35d"
    }
   }
  }
 },
 "nbformat": 4,
 "nbformat_minor": 2,
 "cells": [
  {
   "cell_type": "code",
   "execution_count": 3,
   "metadata": {},
   "outputs": [],
   "source": [
    "from pymongo import MongoClient\n",
    "from sys import path\n",
    "path.append('../../../../')                                                                    # Import the entire project.\n",
    "from My_Golf_Journey.config import mongo_config"
   ]
  },
  {
   "cell_type": "code",
   "execution_count": 4,
   "metadata": {},
   "outputs": [],
   "source": [
    "client = MongoClient(mongo_config['conn_str'])\n",
    "db = client.Golf_Stats_DB\n",
    "collection = db.Scorecards"
   ]
  },
  {
   "cell_type": "code",
   "execution_count": 22,
   "metadata": {},
   "outputs": [
    {
     "output_type": "stream",
     "name": "stdout",
     "text": [
      "18\n{'_id': 1, 'putting_average': 1.7477477477477477, 'scoring_average': 4.675675675675675}\n{'_id': 2, 'putting_average': 1.7207207207207207, 'scoring_average': 4.324324324324325}\n{'_id': 3, 'putting_average': 1.6396396396396395, 'scoring_average': 3.4684684684684686}\n{'_id': 4, 'putting_average': 1.8, 'scoring_average': 4.135135135135135}\n{'_id': 5, 'putting_average': 1.882882882882883, 'scoring_average': 3.4594594594594597}\n{'_id': 6, 'putting_average': 1.6727272727272726, 'scoring_average': 4.554545454545455}\n{'_id': 7, 'putting_average': 1.6181818181818182, 'scoring_average': 3.7818181818181817}\n{'_id': 8, 'putting_average': 1.6545454545454545, 'scoring_average': 5.172727272727273}\n{'_id': 9, 'putting_average': 1.7363636363636363, 'scoring_average': 4.3090909090909095}\n{'_id': 10, 'putting_average': 1.6636363636363636, 'scoring_average': 5.254545454545455}\n{'_id': 11, 'putting_average': 1.7339449541284404, 'scoring_average': 3.238532110091743}\n{'_id': 12, 'putting_average': 1.7155963302752293, 'scoring_average': 5.137614678899083}\n{'_id': 13, 'putting_average': 1.6972477064220184, 'scoring_average': 3.110091743119266}\n{'_id': 14, 'putting_average': 1.6788990825688073, 'scoring_average': 4.064220183486238}\n{'_id': 15, 'putting_average': 1.7570093457943925, 'scoring_average': 4.477064220183486}\n{'_id': 16, 'putting_average': 1.7222222222222223, 'scoring_average': 4.394495412844036}\n{'_id': 17, 'putting_average': 1.7889908256880733, 'scoring_average': 4.495412844036697}\n{'_id': 18, 'putting_average': 1.7037037037037037, 'scoring_average': 4.3119266055045875}\n"
     ]
    }
   ],
   "source": [
    "caledon_rounds = list(collection.aggregate([\n",
    "    {\"$match\": {\"courseSnapshots.courseGlobalId\": 17772}},\n",
    "    {\"$unwind\": \"$scorecardDetails\"},\n",
    "    {\"$sort\": {\"scorecardDetails.scorecard.startTime\" : 1}},\n",
    "    {\"$unwind\": \"$scorecardDetails.scorecard.holes\"}, \n",
    "    {\"$group\": {\"_id\": \"$scorecardDetails.scorecard.holes.number\",\n",
    "        \"putting_average\": {\"$avg\": \"$scorecardDetails.scorecard.holes.putts\"},\n",
    "        \"scoring_average\": {\"$avg\": \"$scorecardDetails.scorecard.holes.strokes\"}}}   , \n",
    "    {'$sort': {\"_id\": 1}}\n",
    "]))\n",
    "print(len(caledon_rounds))\n",
    "for round in caledon_rounds:\n",
    "    print(round)"
   ]
  },
  {
   "cell_type": "code",
   "execution_count": 37,
   "metadata": {
    "tags": []
   },
   "outputs": [
    {
     "output_type": "stream",
     "name": "stdout",
     "text": [
      "112\n['2019-04-27T17:51:28.000Z', '2019-05-02T19:07:06.000Z', '2019-05-18T12:44:45.000Z', '2019-06-02T16:57:45.000Z', '2019-07-01T11:21:57.000Z', '2019-07-20T11:33:50.000Z', '2019-08-09T18:37:09.000Z', '2019-09-02T19:39:52.000Z', '2019-10-14T15:40:46.000Z', '2020-05-17T13:21:34.000Z', '2020-05-27T20:13:12.000Z', '2020-06-03T13:19:14.000Z', '2020-06-10T20:39:43.000Z', '2020-06-19T21:00:45.000Z', '2020-06-28T12:37:10.000Z', '2020-07-08T20:37:18.000Z', '2020-07-17T20:32:24.000Z', '2020-07-29T20:21:22.000Z', '2020-08-07T12:48:32.000Z', '2020-08-14T20:28:12.000Z', '2020-09-12T13:35:36.000Z', '2020-09-23T19:50:24.000Z', '2020-10-17T15:03:33.000Z']\n"
     ]
    }
   ],
   "source": [
    "caledon_rounds = list(collection.aggregate([\n",
    "    {\"$match\": {\"courseSnapshots.courseGlobalId\": 17772}},\n",
    "    {\"$unwind\": \"$scorecardDetails\"},\n",
    "    {\"$sort\": {\"scorecardDetails.scorecard.startTime\" : 1}},\n",
    "    {\"$project\": {\"_id\": 0, \"scorecardDetails.scorecard.startTime\": 1}}\n",
    "]))\n",
    "print(len(caledon_rounds))\n",
    "print([caledon_rounds[i]['scorecardDetails']['scorecard']['startTime'] for i in range(0, len(caledon_rounds), 5)])"
   ]
  },
  {
   "cell_type": "code",
   "execution_count": 38,
   "metadata": {},
   "outputs": [
    {
     "output_type": "execute_result",
     "data": {
      "text/plain": [
       "22.6"
      ]
     },
     "metadata": {},
     "execution_count": 38
    }
   ],
   "source": [
    "113 / 5"
   ]
  },
  {
   "cell_type": "code",
   "execution_count": null,
   "metadata": {},
   "outputs": [],
   "source": []
  }
 ]
}