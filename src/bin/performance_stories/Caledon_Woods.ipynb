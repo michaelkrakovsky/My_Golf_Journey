{
 "metadata": {
  "language_info": {
   "codemirror_mode": {
    "name": "ipython",
    "version": 3
   },
   "file_extension": ".py",
   "mimetype": "text/x-python",
   "name": "python",
   "nbconvert_exporter": "python",
   "pygments_lexer": "ipython3",
   "version": "3.7.1-final"
  },
  "orig_nbformat": 2,
  "kernelspec": {
   "name": "Python 3.7.1 64-bit",
   "display_name": "Python 3.7.1 64-bit",
   "metadata": {
    "interpreter": {
     "hash": "4353ec21a7ee1bcb7760f89b815874e443d5d7d0958581f156108e1b6644c35d"
    }
   }
  }
 },
 "nbformat": 4,
 "nbformat_minor": 2,
 "cells": [
  {
   "source": [
    "# Caledon Woods & I\n",
    "    \n",
    "Let's see how successful I am with Caledon Woods. I will attempt to draw insights on the following questions:\n",
    "\n",
    "1. Can I map my general performace over the past two years?\n",
    "2. What holes cause harship? And how consistent are these hardships?\n",
    "3. What types of holes cause the harship?\n",
    "4. How does putting, fairways, and greens impact your score?"
   ],
   "cell_type": "markdown",
   "metadata": {}
  },
  {
   "cell_type": "code",
   "execution_count": 39,
   "metadata": {},
   "outputs": [],
   "source": [
    "from pymongo import MongoClient\n",
    "from sys import path\n",
    "path.append('../../../../')                     # Import the entire project.\n",
    "from My_Golf_Journey.config import mongo_config"
   ]
  },
  {
   "cell_type": "code",
   "execution_count": 40,
   "metadata": {},
   "outputs": [],
   "source": [
    "client = MongoClient(mongo_config['conn_str'])\n",
    "db = client.Golf_Stats_DB\n",
    "collection = db.Scorecards"
   ]
  },
  {
   "source": [
    "## Question 1\n",
    "\n",
    "At first, I want to map how my score has changed over the past two years. I have been grinding and I know I am better. Let's get the numbers to prove it!\n",
    "\n",
    "I will attempt to break down this question into two categories.\n",
    "\n",
    "1. Measure my general scoring average over the last two years.\n",
    "2. Create ratios regarding the number of rounds I shot in different shot ranges."
   ],
   "cell_type": "markdown",
   "metadata": {}
  },
  {
   "cell_type": "code",
   "execution_count": 42,
   "metadata": {},
   "outputs": [
    {
     "output_type": "stream",
     "name": "stdout",
     "text": [
      "18\n{'_id': 1, 'putting_average': 1.736, 'scoring_average': 4.64}\n{'_id': 2, 'putting_average': 1.704, 'scoring_average': 4.248}\n{'_id': 3, 'putting_average': 1.656, 'scoring_average': 3.456}\n{'_id': 4, 'putting_average': 1.7741935483870968, 'scoring_average': 4.136}\n{'_id': 5, 'putting_average': 1.888, 'scoring_average': 3.448}\n{'_id': 6, 'putting_average': 1.6774193548387097, 'scoring_average': 4.524193548387097}\n{'_id': 7, 'putting_average': 1.6290322580645162, 'scoring_average': 3.7903225806451615}\n{'_id': 8, 'putting_average': 1.6612903225806452, 'scoring_average': 5.120967741935484}\n{'_id': 9, 'putting_average': 1.7258064516129032, 'scoring_average': 4.290322580645161}\n{'_id': 10, 'putting_average': 1.656, 'scoring_average': 5.208}\n{'_id': 11, 'putting_average': 1.75, 'scoring_average': 3.2338709677419355}\n{'_id': 12, 'putting_average': 1.7016129032258065, 'scoring_average': 5.112903225806452}\n{'_id': 13, 'putting_average': 1.685483870967742, 'scoring_average': 3.1129032258064515}\n{'_id': 14, 'putting_average': 1.685483870967742, 'scoring_average': 4.040322580645161}\n{'_id': 15, 'putting_average': 1.778688524590164, 'scoring_average': 4.516129032258065}\n{'_id': 16, 'putting_average': 1.7398373983739837, 'scoring_average': 4.419354838709677}\n{'_id': 17, 'putting_average': 1.814516129032258, 'scoring_average': 4.483870967741935}\n{'_id': 18, 'putting_average': 1.6991869918699187, 'scoring_average': 4.290322580645161}\n"
     ]
    }
   ],
   "source": [
    "caledon_rounds = list(collection.aggregate([\n",
    "    {\"$match\": {\"courseSnapshots.courseGlobalId\": 17772}},\n",
    "    {\"$unwind\": \"$scorecardDetails\"},\n",
    "    {\"$sort\": {\"scorecardDetails.scorecard.startTime\" : 1}},\n",
    "    {\"$unwind\": \"$scorecardDetails.scorecard.holes\"}, \n",
    "    {\"$group\": {\"_id\": \"$scorecardDetails.scorecard.holes.number\",\n",
    "        \"putting_average\": {\"$avg\": \"$scorecardDetails.scorecard.holes.putts\"},\n",
    "        \"scoring_average\": {\"$avg\": \"$scorecardDetails.scorecard.holes.strokes\"}}}   , \n",
    "    {'$sort': {\"_id\": 1}}\n",
    "]))\n",
    "print(len(caledon_rounds))\n",
    "for round in caledon_rounds:\n",
    "    print(round)"
   ]
  },
  {
   "cell_type": "code",
   "execution_count": 37,
   "metadata": {
    "tags": []
   },
   "outputs": [
    {
     "output_type": "stream",
     "name": "stdout",
     "text": [
      "112\n['2019-04-27T17:51:28.000Z', '2019-05-02T19:07:06.000Z', '2019-05-18T12:44:45.000Z', '2019-06-02T16:57:45.000Z', '2019-07-01T11:21:57.000Z', '2019-07-20T11:33:50.000Z', '2019-08-09T18:37:09.000Z', '2019-09-02T19:39:52.000Z', '2019-10-14T15:40:46.000Z', '2020-05-17T13:21:34.000Z', '2020-05-27T20:13:12.000Z', '2020-06-03T13:19:14.000Z', '2020-06-10T20:39:43.000Z', '2020-06-19T21:00:45.000Z', '2020-06-28T12:37:10.000Z', '2020-07-08T20:37:18.000Z', '2020-07-17T20:32:24.000Z', '2020-07-29T20:21:22.000Z', '2020-08-07T12:48:32.000Z', '2020-08-14T20:28:12.000Z', '2020-09-12T13:35:36.000Z', '2020-09-23T19:50:24.000Z', '2020-10-17T15:03:33.000Z']\n"
     ]
    }
   ],
   "source": [
    "caledon_rounds = list(collection.aggregate([\n",
    "    {\"$match\": {\"courseSnapshots.courseGlobalId\": 17772}},\n",
    "    {\"$unwind\": \"$scorecardDetails\"},\n",
    "    {\"$sort\": {\"scorecardDetails.scorecard.startTime\" : 1}},\n",
    "    {\"$project\": {\"_id\": 0, \"scorecardDetails.scorecard.startTime\": 1}}\n",
    "]))\n",
    "print(len(caledon_rounds))\n",
    "print([caledon_rounds[i]['scorecardDetails']['scorecard']['startTime'] for i in range(0, len(caledon_rounds), 5)])"
   ]
  },
  {
   "cell_type": "code",
   "execution_count": 38,
   "metadata": {},
   "outputs": [
    {
     "output_type": "execute_result",
     "data": {
      "text/plain": [
       "22.6"
      ]
     },
     "metadata": {},
     "execution_count": 38
    }
   ],
   "source": [
    "113 / 5"
   ]
  },
  {
   "cell_type": "code",
   "execution_count": null,
   "metadata": {},
   "outputs": [],
   "source": []
  }
 ]
}